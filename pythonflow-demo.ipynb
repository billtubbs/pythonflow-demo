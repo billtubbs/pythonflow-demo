{
 "cells": [
  {
   "cell_type": "markdown",
   "metadata": {},
   "source": [
    "# Ways To Build And Manage A Computation Graph in Python"
   ]
  },
  {
   "cell_type": "markdown",
   "metadata": {},
   "source": [
    "This Python notebook is in response to a question I posted on Stack Overflow:\n",
    "\n",
    "> [Best way to 'intelligently' reset memoized property values in Python when dependencies change](https://stackoverflow.com/questions/57439169/best-way-to-intelligently-reset-memoized-property-values-in-python-when-depend)\n",
    "\n",
    "\n",
    "**Contents**\n",
    "\n",
    "1. Static Calculation Object in Python - only does the calculation once\n",
    "2. Dynamic Calculation Object in Python - recalculates every time you request a value (lazy but inefficient)\n",
    "3. Computation Graph with Memoisation using Python Built-ins - only recalculates if it needs to (lazy and efficient)\n",
    "4. Computation Graph using Pythonflow Package - recalculates every time you request a value (lazy but inefficient)\n",
    "5. Computation Graph using Pythonflow and Class Properties - same as above\n",
    "6. Computation Graph using Dask - recalculates every time you request a value (lazy but inefficient)\n"
   ]
  },
  {
   "cell_type": "markdown",
   "metadata": {},
   "source": [
    "## 1. Static Calculation Object in Python\n",
    "\n",
    "In this first example, the calculation is done when the object is initialized and is not re-calculated again.  To avoid any ambiguity, none of the object's attributes can be changed after initialization.  Use this method when you need to do a calculation once and want to store the results but don't need to re-do it later."
   ]
  },
  {
   "cell_type": "code",
   "execution_count": 1,
   "metadata": {},
   "outputs": [],
   "source": [
    "from math import pi\n",
    "\n",
    "\n",
    "class Cylinder:\n",
    "\n",
    "    def __init__(self, radius, length, density):\n",
    "        self._length = length\n",
    "        self._radius = radius\n",
    "        self._density = density\n",
    "        self._volume = self.calculate_volume(self.length, self.radius)\n",
    "        self._mass = self.calculate_mass(self.volume, self.density)\n",
    "\n",
    "    @staticmethod\n",
    "    def calculate_volume(length, radius):\n",
    "        \"\"\"Calculates cylinder's volume.\"\"\"\n",
    "        print(\"Volume calculated\")\n",
    "        return length*pi*radius**2\n",
    "\n",
    "    @staticmethod\n",
    "    def calculate_mass(volume, density):\n",
    "        \"\"\"Calculates cylinder's mass.\"\"\"\n",
    "        print(\"Mass calculated\")\n",
    "        return volume*density\n",
    "\n",
    "    @property\n",
    "    def length(self):\n",
    "        return self._length\n",
    "\n",
    "    @property\n",
    "    def radius(self):\n",
    "        return self._radius\n",
    "\n",
    "    @property\n",
    "    def density(self):\n",
    "        return self._density\n",
    "\n",
    "    @property\n",
    "    def volume(self):\n",
    "        return self._volume\n",
    "\n",
    "    @property\n",
    "    def mass(self):\n",
    "        return self._mass\n"
   ]
  },
  {
   "cell_type": "code",
   "execution_count": 2,
   "metadata": {},
   "outputs": [
    {
     "name": "stdout",
     "output_type": "stream",
     "text": [
      "Volume calculated\n",
      "Mass calculated\n"
     ]
    }
   ],
   "source": [
    "c = Cylinder(0.25, 1.0, 450)"
   ]
  },
  {
   "cell_type": "code",
   "execution_count": 3,
   "metadata": {},
   "outputs": [
    {
     "data": {
      "text/plain": [
       "0.25"
      ]
     },
     "execution_count": 3,
     "metadata": {},
     "output_type": "execute_result"
    }
   ],
   "source": [
    "c.radius"
   ]
  },
  {
   "cell_type": "code",
   "execution_count": 4,
   "metadata": {},
   "outputs": [
    {
     "data": {
      "text/plain": [
       "1.0"
      ]
     },
     "execution_count": 4,
     "metadata": {},
     "output_type": "execute_result"
    }
   ],
   "source": [
    "c.length"
   ]
  },
  {
   "cell_type": "code",
   "execution_count": 5,
   "metadata": {},
   "outputs": [
    {
     "data": {
      "text/plain": [
       "450"
      ]
     },
     "execution_count": 5,
     "metadata": {},
     "output_type": "execute_result"
    }
   ],
   "source": [
    "c.density"
   ]
  },
  {
   "cell_type": "code",
   "execution_count": 6,
   "metadata": {},
   "outputs": [
    {
     "data": {
      "text/plain": [
       "0.19634954084936207"
      ]
     },
     "execution_count": 6,
     "metadata": {},
     "output_type": "execute_result"
    }
   ],
   "source": [
    "c.volume"
   ]
  },
  {
   "cell_type": "code",
   "execution_count": 7,
   "metadata": {},
   "outputs": [
    {
     "data": {
      "text/plain": [
       "88.35729338221293"
      ]
     },
     "execution_count": 7,
     "metadata": {},
     "output_type": "execute_result"
    }
   ],
   "source": [
    "c.mass"
   ]
  },
  {
   "cell_type": "code",
   "execution_count": 8,
   "metadata": {},
   "outputs": [
    {
     "name": "stdout",
     "output_type": "stream",
     "text": [
      "can't set attribute\n"
     ]
    }
   ],
   "source": [
    "try:\n",
    "    c.length = 2  # Try to change it!\n",
    "except AttributeError as err:\n",
    "    print(err)"
   ]
  },
  {
   "cell_type": "code",
   "execution_count": 9,
   "metadata": {},
   "outputs": [
    {
     "data": {
      "text/plain": [
       "88.35729338221293"
      ]
     },
     "execution_count": 9,
     "metadata": {},
     "output_type": "execute_result"
    }
   ],
   "source": [
    "c.mass"
   ]
  },
  {
   "cell_type": "code",
   "execution_count": 10,
   "metadata": {},
   "outputs": [
    {
     "data": {
      "text/plain": [
       "0.19634954084936207"
      ]
     },
     "execution_count": 10,
     "metadata": {},
     "output_type": "execute_result"
    }
   ],
   "source": [
    "c.volume"
   ]
  },
  {
   "cell_type": "code",
   "execution_count": 11,
   "metadata": {},
   "outputs": [
    {
     "name": "stdout",
     "output_type": "stream",
     "text": [
      "can't set attribute\n"
     ]
    }
   ],
   "source": [
    "try:\n",
    "    c.volume = 0  # Try to change it!\n",
    "except AttributeError as err:\n",
    "    print(err)"
   ]
  },
  {
   "cell_type": "markdown",
   "metadata": {},
   "source": [
    "## 2. Dynamic Calculation Object in Python\n",
    "\n",
    "In this example, the object is instantiated with initial values but the calculations are not executed until the resulting values are requested.  Every time any values are requested, all calculations related to that value are re-computed (regardless of whether they need to be).  This is a safe but potentially inefficient solution."
   ]
  },
  {
   "cell_type": "code",
   "execution_count": 12,
   "metadata": {},
   "outputs": [],
   "source": [
    "from math import pi\n",
    "\n",
    "\n",
    "class Cylinder:\n",
    "\n",
    "    def __init__(self, radius, length, density):\n",
    "        self._length = length\n",
    "        self._radius = radius\n",
    "        self._density = density\n",
    "        self._volume = None\n",
    "        self._mass = None\n",
    "\n",
    "    @staticmethod\n",
    "    def calculate_volume(length, radius):\n",
    "        \"\"\"Calculates cylinder's volume.\"\"\"\n",
    "        print(\"Volume calculated\")\n",
    "        return length*pi*radius**2\n",
    "\n",
    "    @staticmethod\n",
    "    def calculate_mass(volume, density):\n",
    "        \"\"\"Calculates cylinder's mass.\"\"\"\n",
    "        print(\"Mass calculated\")\n",
    "        return volume*density\n",
    "\n",
    "    @property\n",
    "    def length(self):\n",
    "        return self._length\n",
    "\n",
    "    @length.setter\n",
    "    def length(self, value):\n",
    "        self._length = value\n",
    "\n",
    "    @property\n",
    "    def radius(self):\n",
    "        return self._radius\n",
    "\n",
    "    @radius.setter\n",
    "    def radius(self, value):\n",
    "        self._radius = value\n",
    "\n",
    "    @property\n",
    "    def density(self):\n",
    "        return self._density\n",
    "\n",
    "    @density.setter\n",
    "    def density(self, value):\n",
    "        self._density = value\n",
    "\n",
    "    @property\n",
    "    def volume(self):\n",
    "        self._volume = self.calculate_volume(self.length, self.radius)\n",
    "        return self._volume\n",
    "\n",
    "    @property\n",
    "    def mass(self):\n",
    "        self._mass = self.calculate_mass(self.volume, self.density)\n",
    "        return self._mass\n"
   ]
  },
  {
   "cell_type": "code",
   "execution_count": 13,
   "metadata": {},
   "outputs": [],
   "source": [
    "c = Cylinder(0.25, 1.0, 450)"
   ]
  },
  {
   "cell_type": "code",
   "execution_count": 14,
   "metadata": {},
   "outputs": [
    {
     "data": {
      "text/plain": [
       "0.25"
      ]
     },
     "execution_count": 14,
     "metadata": {},
     "output_type": "execute_result"
    }
   ],
   "source": [
    "c.radius"
   ]
  },
  {
   "cell_type": "code",
   "execution_count": 15,
   "metadata": {},
   "outputs": [
    {
     "data": {
      "text/plain": [
       "1.0"
      ]
     },
     "execution_count": 15,
     "metadata": {},
     "output_type": "execute_result"
    }
   ],
   "source": [
    "c.length"
   ]
  },
  {
   "cell_type": "code",
   "execution_count": 16,
   "metadata": {},
   "outputs": [
    {
     "data": {
      "text/plain": [
       "450"
      ]
     },
     "execution_count": 16,
     "metadata": {},
     "output_type": "execute_result"
    }
   ],
   "source": [
    "c.density"
   ]
  },
  {
   "cell_type": "code",
   "execution_count": 17,
   "metadata": {},
   "outputs": [
    {
     "name": "stdout",
     "output_type": "stream",
     "text": [
      "Volume calculated\n"
     ]
    },
    {
     "data": {
      "text/plain": [
       "0.19634954084936207"
      ]
     },
     "execution_count": 17,
     "metadata": {},
     "output_type": "execute_result"
    }
   ],
   "source": [
    "c.volume"
   ]
  },
  {
   "cell_type": "code",
   "execution_count": 18,
   "metadata": {},
   "outputs": [
    {
     "name": "stdout",
     "output_type": "stream",
     "text": [
      "Volume calculated\n",
      "Mass calculated\n"
     ]
    },
    {
     "data": {
      "text/plain": [
       "88.35729338221293"
      ]
     },
     "execution_count": 18,
     "metadata": {},
     "output_type": "execute_result"
    }
   ],
   "source": [
    "c.mass"
   ]
  },
  {
   "cell_type": "code",
   "execution_count": 19,
   "metadata": {},
   "outputs": [],
   "source": [
    "try:\n",
    "    c.length = 2  # Try to change it!\n",
    "except AttributeError as err:\n",
    "    print(err)"
   ]
  },
  {
   "cell_type": "code",
   "execution_count": 20,
   "metadata": {},
   "outputs": [
    {
     "name": "stdout",
     "output_type": "stream",
     "text": [
      "Volume calculated\n",
      "Mass calculated\n"
     ]
    },
    {
     "data": {
      "text/plain": [
       "176.71458676442586"
      ]
     },
     "execution_count": 20,
     "metadata": {},
     "output_type": "execute_result"
    }
   ],
   "source": [
    "c.mass"
   ]
  },
  {
   "cell_type": "code",
   "execution_count": 21,
   "metadata": {},
   "outputs": [
    {
     "name": "stdout",
     "output_type": "stream",
     "text": [
      "Volume calculated\n"
     ]
    },
    {
     "data": {
      "text/plain": [
       "0.39269908169872414"
      ]
     },
     "execution_count": 21,
     "metadata": {},
     "output_type": "execute_result"
    }
   ],
   "source": [
    "c.volume"
   ]
  },
  {
   "cell_type": "code",
   "execution_count": 22,
   "metadata": {},
   "outputs": [
    {
     "name": "stdout",
     "output_type": "stream",
     "text": [
      "can't set attribute\n"
     ]
    }
   ],
   "source": [
    "try:\n",
    "    c.volume = 0  # Try to change it!\n",
    "except AttributeError as err:\n",
    "    print(err)"
   ]
  },
  {
   "cell_type": "markdown",
   "metadata": {},
   "source": [
    "## 3. Computation Graph with Memoisation using Python Built-ins\n",
    "\n",
    "Here, the class has an explicit computation graph which it uses to determine whether calculations need to be re-done (if dependent parameters have changed) or not.  This is both safe and efficient (as long as you make sure the computation graph is properly specified and up to date)."
   ]
  },
  {
   "cell_type": "code",
   "execution_count": 23,
   "metadata": {},
   "outputs": [],
   "source": [
    "from itertools import chain\n",
    "\n",
    "\n",
    "class Cylinder:\n",
    "\n",
    "    _dependencies = {\n",
    "        \"length\": [\"volume\"],\n",
    "        \"radius\": [\"volume\"],\n",
    "        \"volume\": [\"mass\"],\n",
    "        \"density\": [\"mass\"]\n",
    "    }\n",
    "    _dependent_vars = set(chain(*list(_dependencies.values())))\n",
    "\n",
    "    def __init__(self, radius, length, density):\n",
    "        self._length = length\n",
    "        self._radius = radius\n",
    "        self._density = density\n",
    "        self._volume = None\n",
    "        self._mass = None\n",
    "\n",
    "    def _reset_dependent_vars(self, name):\n",
    "        for var in self._dependencies[name]:\n",
    "            super().__setattr__(f\"_{var}\", None)\n",
    "            if var in self._dependencies:\n",
    "                self._reset_dependent_vars(var)\n",
    "\n",
    "    def __setattr__(self, name, value):\n",
    "        if name in self._dependent_vars:\n",
    "            raise AttributeError(\"can't set attribute\")\n",
    "        if name in self._dependencies:\n",
    "            self._reset_dependent_vars(name)\n",
    "            name = f\"_{name}\"\n",
    "        super().__setattr__(name, value)\n",
    "\n",
    "    @property\n",
    "    def volume(self):\n",
    "        \"\"\"Calculates cylinder's volume.\"\"\"\n",
    "        if self._volume is None:\n",
    "            self._volume = self.length*pi*self.radius**2\n",
    "            print(\"Volume calculated\")\n",
    "        return self._volume\n",
    "\n",
    "    @property\n",
    "    def mass(self):\n",
    "        \"\"\"Calculates cylinder's mass.\"\"\"\n",
    "        if self._mass is None:\n",
    "            self._mass = self.volume*self.density\n",
    "            print(\"Mass calculated\")\n",
    "        return self._mass\n",
    "\n",
    "    @property\n",
    "    def length(self):\n",
    "        return self._length\n",
    "\n",
    "    @property\n",
    "    def radius(self):\n",
    "        return self._radius\n",
    "\n",
    "    @property\n",
    "    def density(self):\n",
    "        return self._density"
   ]
  },
  {
   "cell_type": "code",
   "execution_count": 24,
   "metadata": {},
   "outputs": [],
   "source": [
    "c = Cylinder(0.25, 1.0, 450)"
   ]
  },
  {
   "cell_type": "code",
   "execution_count": 25,
   "metadata": {},
   "outputs": [
    {
     "data": {
      "text/plain": [
       "0.25"
      ]
     },
     "execution_count": 25,
     "metadata": {},
     "output_type": "execute_result"
    }
   ],
   "source": [
    "c.radius"
   ]
  },
  {
   "cell_type": "code",
   "execution_count": 26,
   "metadata": {},
   "outputs": [
    {
     "data": {
      "text/plain": [
       "1.0"
      ]
     },
     "execution_count": 26,
     "metadata": {},
     "output_type": "execute_result"
    }
   ],
   "source": [
    "c.length"
   ]
  },
  {
   "cell_type": "code",
   "execution_count": 27,
   "metadata": {},
   "outputs": [
    {
     "data": {
      "text/plain": [
       "450"
      ]
     },
     "execution_count": 27,
     "metadata": {},
     "output_type": "execute_result"
    }
   ],
   "source": [
    "c.density"
   ]
  },
  {
   "cell_type": "code",
   "execution_count": 28,
   "metadata": {},
   "outputs": [
    {
     "name": "stdout",
     "output_type": "stream",
     "text": [
      "Volume calculated\n"
     ]
    },
    {
     "data": {
      "text/plain": [
       "0.19634954084936207"
      ]
     },
     "execution_count": 28,
     "metadata": {},
     "output_type": "execute_result"
    }
   ],
   "source": [
    "c.volume"
   ]
  },
  {
   "cell_type": "code",
   "execution_count": 29,
   "metadata": {},
   "outputs": [
    {
     "name": "stdout",
     "output_type": "stream",
     "text": [
      "Mass calculated\n"
     ]
    },
    {
     "data": {
      "text/plain": [
       "88.35729338221293"
      ]
     },
     "execution_count": 29,
     "metadata": {},
     "output_type": "execute_result"
    }
   ],
   "source": [
    "c.mass"
   ]
  },
  {
   "cell_type": "code",
   "execution_count": 30,
   "metadata": {},
   "outputs": [],
   "source": [
    "c.length = 2  # This should change things!"
   ]
  },
  {
   "cell_type": "code",
   "execution_count": 31,
   "metadata": {},
   "outputs": [
    {
     "name": "stdout",
     "output_type": "stream",
     "text": [
      "Volume calculated\n",
      "Mass calculated\n"
     ]
    },
    {
     "data": {
      "text/plain": [
       "176.71458676442586"
      ]
     },
     "execution_count": 31,
     "metadata": {},
     "output_type": "execute_result"
    }
   ],
   "source": [
    "c.mass"
   ]
  },
  {
   "cell_type": "code",
   "execution_count": 32,
   "metadata": {},
   "outputs": [
    {
     "data": {
      "text/plain": [
       "0.39269908169872414"
      ]
     },
     "execution_count": 32,
     "metadata": {},
     "output_type": "execute_result"
    }
   ],
   "source": [
    "c.volume"
   ]
  },
  {
   "cell_type": "code",
   "execution_count": 33,
   "metadata": {},
   "outputs": [
    {
     "name": "stdout",
     "output_type": "stream",
     "text": [
      "can't set attribute\n"
     ]
    }
   ],
   "source": [
    "try:\n",
    "    c.volume = 0\n",
    "except AttributeError as err:\n",
    "    print(err)"
   ]
  },
  {
   "cell_type": "markdown",
   "metadata": {},
   "source": [
    "## 4. Computation Graph using Pythonflow Package\n",
    "\n",
    "This package automatically constructs the computation graph for you based on the calculations you define.  However, it redoes all the calculations each time you request a value, even if the dependent values haven't changed.  This is a safe but potentially inefficient solution."
   ]
  },
  {
   "cell_type": "code",
   "execution_count": 34,
   "metadata": {},
   "outputs": [],
   "source": [
    "from math import pi\n",
    "import pythonflow as pf\n",
    "\n",
    "\n",
    "with pf.Graph() as graph:\n",
    "    pi = pf.constant(pi)\n",
    "    length = pf.constant(1.0)\n",
    "    radius = pf.constant(0.25)\n",
    "    density = pf.constant(450)\n",
    "    volume = length*pi*radius**2\n",
    "    mass = volume*density"
   ]
  },
  {
   "cell_type": "code",
   "execution_count": 35,
   "metadata": {},
   "outputs": [
    {
     "data": {
      "text/plain": [
       "0.19634954084936207"
      ]
     },
     "execution_count": 35,
     "metadata": {},
     "output_type": "execute_result"
    }
   ],
   "source": [
    "graph(volume)"
   ]
  },
  {
   "cell_type": "code",
   "execution_count": 36,
   "metadata": {},
   "outputs": [
    {
     "data": {
      "text/plain": [
       "88.35729338221293"
      ]
     },
     "execution_count": 36,
     "metadata": {},
     "output_type": "execute_result"
    }
   ],
   "source": [
    "graph(mass)"
   ]
  },
  {
   "cell_type": "code",
   "execution_count": 37,
   "metadata": {},
   "outputs": [
    {
     "data": {
      "text/plain": [
       "0.39269908169872414"
      ]
     },
     "execution_count": 37,
     "metadata": {},
     "output_type": "execute_result"
    }
   ],
   "source": [
    "graph(volume, {length: graph(length)*2})"
   ]
  },
  {
   "cell_type": "code",
   "execution_count": 38,
   "metadata": {},
   "outputs": [
    {
     "data": {
      "text/plain": [
       "176.71458676442586"
      ]
     },
     "execution_count": 38,
     "metadata": {},
     "output_type": "execute_result"
    }
   ],
   "source": [
    "graph(mass, {length: graph(length)*2})"
   ]
  },
  {
   "cell_type": "code",
   "execution_count": 39,
   "metadata": {},
   "outputs": [
    {
     "data": {
      "text/plain": [
       "176.71458676442586"
      ]
     },
     "execution_count": 39,
     "metadata": {},
     "output_type": "execute_result"
    }
   ],
   "source": [
    "graph(mass, {length: graph(length)*2})"
   ]
  },
  {
   "cell_type": "code",
   "execution_count": 40,
   "metadata": {},
   "outputs": [],
   "source": [
    "# Problem is, I think it is still recalculating all dependencies each time...\n"
   ]
  },
  {
   "cell_type": "markdown",
   "metadata": {},
   "source": [
    "## 5. Computation Graph using Pythonflow and Class Properties\n",
    "\n",
    "Same as above but built into the same class structure as the other examples here."
   ]
  },
  {
   "cell_type": "code",
   "execution_count": 41,
   "metadata": {},
   "outputs": [],
   "source": [
    "from math import pi\n",
    "\n",
    "\n",
    "class Cylinder:\n",
    "\n",
    "    def __init__(self, radius, length, density):\n",
    "        self._length = length\n",
    "        self._radius = radius\n",
    "        self._density = density\n",
    "        self._volume = None\n",
    "        self._mass = None\n",
    "        with pf.Graph() as graph:\n",
    "            self._pf_radius = pf.placeholder(name='_radius')\n",
    "            self._pf_length = pf.placeholder(name='_length')\n",
    "            self._pf_density = pf.placeholder(name='_density')\n",
    "\n",
    "            # Build computation graph\n",
    "            self._pf_volume = self._pf_length*pi*self._pf_radius**2\n",
    "            self._pf_mass = self._pf_volume*self._pf_density\n",
    "            self.graph = graph\n",
    "\n",
    "    def _pf_values(self):\n",
    "        return {\n",
    "            self._pf_radius: self._radius,\n",
    "            self._pf_length: self._length,\n",
    "            self._pf_density: self._density\n",
    "        }\n",
    "    \n",
    "    @property\n",
    "    def volume(self):\n",
    "        \"\"\"Calculates cylinder's volume.\"\"\"\n",
    "        print(\"Volume calculated\")\n",
    "        return self.graph(self._pf_volume, self._pf_values())\n",
    "\n",
    "    @property\n",
    "    def mass(self):\n",
    "        \"\"\"Calculates cylinder's mass.\"\"\"\n",
    "        print(\"Mass calculated\")\n",
    "        return self.graph(self._pf_mass, self._pf_values())\n",
    "\n",
    "    @property\n",
    "    def length(self):\n",
    "        return self._length\n",
    "\n",
    "    @length.setter\n",
    "    def length(self, value):\n",
    "        self._length = value\n",
    "\n",
    "    @property\n",
    "    def radius(self):\n",
    "        return self._radius\n",
    "\n",
    "    @radius.setter\n",
    "    def radius(self, value):\n",
    "        self._radius = value\n",
    "\n",
    "    @property\n",
    "    def density(self):\n",
    "        return self._density\n",
    "\n",
    "    @density.setter\n",
    "    def density(self, value):\n",
    "        self._density = value\n"
   ]
  },
  {
   "cell_type": "code",
   "execution_count": 42,
   "metadata": {},
   "outputs": [],
   "source": [
    "c = Cylinder(0.25, 1.0, 450)"
   ]
  },
  {
   "cell_type": "code",
   "execution_count": 43,
   "metadata": {},
   "outputs": [
    {
     "data": {
      "text/plain": [
       "0.25"
      ]
     },
     "execution_count": 43,
     "metadata": {},
     "output_type": "execute_result"
    }
   ],
   "source": [
    "c.radius"
   ]
  },
  {
   "cell_type": "code",
   "execution_count": 44,
   "metadata": {},
   "outputs": [
    {
     "data": {
      "text/plain": [
       "1.0"
      ]
     },
     "execution_count": 44,
     "metadata": {},
     "output_type": "execute_result"
    }
   ],
   "source": [
    "c.length"
   ]
  },
  {
   "cell_type": "code",
   "execution_count": 45,
   "metadata": {},
   "outputs": [
    {
     "data": {
      "text/plain": [
       "450"
      ]
     },
     "execution_count": 45,
     "metadata": {},
     "output_type": "execute_result"
    }
   ],
   "source": [
    "c.density"
   ]
  },
  {
   "cell_type": "code",
   "execution_count": 46,
   "metadata": {},
   "outputs": [
    {
     "name": "stdout",
     "output_type": "stream",
     "text": [
      "Volume calculated\n"
     ]
    },
    {
     "data": {
      "text/plain": [
       "0.19634954084936207"
      ]
     },
     "execution_count": 46,
     "metadata": {},
     "output_type": "execute_result"
    }
   ],
   "source": [
    "c.volume"
   ]
  },
  {
   "cell_type": "code",
   "execution_count": 47,
   "metadata": {},
   "outputs": [
    {
     "name": "stdout",
     "output_type": "stream",
     "text": [
      "Mass calculated\n"
     ]
    },
    {
     "data": {
      "text/plain": [
       "88.35729338221293"
      ]
     },
     "execution_count": 47,
     "metadata": {},
     "output_type": "execute_result"
    }
   ],
   "source": [
    "c.mass"
   ]
  },
  {
   "cell_type": "code",
   "execution_count": 48,
   "metadata": {},
   "outputs": [
    {
     "data": {
      "text/plain": [
       "2"
      ]
     },
     "execution_count": 48,
     "metadata": {},
     "output_type": "execute_result"
    }
   ],
   "source": [
    "c.length = 2  # This should change things!\n",
    "c.length"
   ]
  },
  {
   "cell_type": "code",
   "execution_count": 49,
   "metadata": {},
   "outputs": [
    {
     "name": "stdout",
     "output_type": "stream",
     "text": [
      "Mass calculated\n"
     ]
    },
    {
     "data": {
      "text/plain": [
       "176.71458676442586"
      ]
     },
     "execution_count": 49,
     "metadata": {},
     "output_type": "execute_result"
    }
   ],
   "source": [
    "c.mass"
   ]
  },
  {
   "cell_type": "code",
   "execution_count": 50,
   "metadata": {},
   "outputs": [
    {
     "name": "stdout",
     "output_type": "stream",
     "text": [
      "Volume calculated\n"
     ]
    },
    {
     "data": {
      "text/plain": [
       "0.39269908169872414"
      ]
     },
     "execution_count": 50,
     "metadata": {},
     "output_type": "execute_result"
    }
   ],
   "source": [
    "c.volume"
   ]
  },
  {
   "cell_type": "code",
   "execution_count": 51,
   "metadata": {},
   "outputs": [
    {
     "name": "stdout",
     "output_type": "stream",
     "text": [
      "can't set attribute\n"
     ]
    }
   ],
   "source": [
    "try:\n",
    "    c.volume = 0\n",
    "except AttributeError as err:\n",
    "    print(err)"
   ]
  },
  {
   "cell_type": "code",
   "execution_count": 52,
   "metadata": {},
   "outputs": [],
   "source": [
    "#TODO: Can it cache values and do lazy evaluation?  I don't think so."
   ]
  },
  {
   "cell_type": "markdown",
   "metadata": {},
   "source": [
    "## 6. Computation Graph using Dask"
   ]
  },
  {
   "cell_type": "code",
   "execution_count": 53,
   "metadata": {},
   "outputs": [],
   "source": [
    "from math import pi\n",
    "from dask import delayed, compute\n",
    "\n",
    "\n",
    "class Cylinder:\n",
    "\n",
    "    def __init__(self, radius, length, density):\n",
    "        self._length = length\n",
    "        self._radius = radius\n",
    "        self._density = density\n",
    "        \n",
    "        # Build computation graphs\n",
    "        self._length_graph = self.length\n",
    "        self._radius_graph = self.radius\n",
    "        self._density_graph = self.density\n",
    "        self._volume_graph = self.calculate_volume(self.get_length(), self.get_radius())\n",
    "        self._mass_graph = self.calculate_mass(self._volume_graph, self.get_density())\n",
    "\n",
    "    @delayed\n",
    "    def get_length(self):\n",
    "        return self._length\n",
    "\n",
    "    @delayed\n",
    "    def get_radius(self):\n",
    "        return self._radius\n",
    "\n",
    "    @delayed\n",
    "    def get_density(self):\n",
    "        return self._density\n",
    "\n",
    "    @delayed\n",
    "    def calculate_volume(self, length, radius):\n",
    "        \"\"\"Calculates cylinder's volume.\"\"\"\n",
    "        print(\"Volume calculated\")\n",
    "        return length*pi*radius**2\n",
    "\n",
    "    @delayed\n",
    "    def calculate_mass(self, volume, density):\n",
    "        \"\"\"Calculates cylinder's mass.\"\"\"\n",
    "        print(\"Mass calculated\")\n",
    "        return volume*density\n",
    "\n",
    "    @property\n",
    "    def length(self):\n",
    "        return self._length\n",
    "\n",
    "    @length.setter\n",
    "    def length(self, value):\n",
    "        self._length = value\n",
    "\n",
    "    @property\n",
    "    def radius(self):\n",
    "        return self._radius\n",
    "\n",
    "    @radius.setter\n",
    "    def radius(self, value):\n",
    "        self._radius = value\n",
    "\n",
    "    @property\n",
    "    def density(self):\n",
    "        return self._density\n",
    "\n",
    "    @density.setter\n",
    "    def density(self, value):\n",
    "        self._density = value\n",
    "\n",
    "    @property\n",
    "    def volume(self):\n",
    "        return self._volume_graph.compute()\n",
    "\n",
    "    @property\n",
    "    def mass(self):\n",
    "        return self._mass_graph.compute()\n"
   ]
  },
  {
   "cell_type": "code",
   "execution_count": 54,
   "metadata": {},
   "outputs": [],
   "source": [
    "c = Cylinder(0.25, 1.0, 450)"
   ]
  },
  {
   "cell_type": "code",
   "execution_count": 55,
   "metadata": {},
   "outputs": [
    {
     "data": {
      "text/plain": [
       "0.25"
      ]
     },
     "execution_count": 55,
     "metadata": {},
     "output_type": "execute_result"
    }
   ],
   "source": [
    "c.radius"
   ]
  },
  {
   "cell_type": "code",
   "execution_count": 56,
   "metadata": {},
   "outputs": [
    {
     "data": {
      "text/plain": [
       "1.0"
      ]
     },
     "execution_count": 56,
     "metadata": {},
     "output_type": "execute_result"
    }
   ],
   "source": [
    "c.length"
   ]
  },
  {
   "cell_type": "code",
   "execution_count": 57,
   "metadata": {},
   "outputs": [
    {
     "data": {
      "text/plain": [
       "450"
      ]
     },
     "execution_count": 57,
     "metadata": {},
     "output_type": "execute_result"
    }
   ],
   "source": [
    "c.density"
   ]
  },
  {
   "cell_type": "code",
   "execution_count": 58,
   "metadata": {},
   "outputs": [
    {
     "name": "stdout",
     "output_type": "stream",
     "text": [
      "Volume calculated\n"
     ]
    },
    {
     "data": {
      "text/plain": [
       "0.19634954084936207"
      ]
     },
     "execution_count": 58,
     "metadata": {},
     "output_type": "execute_result"
    }
   ],
   "source": [
    "c.volume"
   ]
  },
  {
   "cell_type": "code",
   "execution_count": 59,
   "metadata": {},
   "outputs": [
    {
     "name": "stdout",
     "output_type": "stream",
     "text": [
      "Volume calculated\n",
      "Mass calculated\n"
     ]
    },
    {
     "data": {
      "text/plain": [
       "88.35729338221293"
      ]
     },
     "execution_count": 59,
     "metadata": {},
     "output_type": "execute_result"
    }
   ],
   "source": [
    "c.mass"
   ]
  },
  {
   "cell_type": "code",
   "execution_count": 60,
   "metadata": {},
   "outputs": [],
   "source": [
    "c.length = 2  # This should change things!"
   ]
  },
  {
   "cell_type": "code",
   "execution_count": 61,
   "metadata": {},
   "outputs": [
    {
     "name": "stdout",
     "output_type": "stream",
     "text": [
      "Volume calculated\n",
      "Mass calculated\n"
     ]
    },
    {
     "data": {
      "text/plain": [
       "176.71458676442586"
      ]
     },
     "execution_count": 61,
     "metadata": {},
     "output_type": "execute_result"
    }
   ],
   "source": [
    "c.mass"
   ]
  },
  {
   "cell_type": "code",
   "execution_count": 62,
   "metadata": {},
   "outputs": [
    {
     "name": "stdout",
     "output_type": "stream",
     "text": [
      "Volume calculated\n"
     ]
    },
    {
     "data": {
      "text/plain": [
       "0.39269908169872414"
      ]
     },
     "execution_count": 62,
     "metadata": {},
     "output_type": "execute_result"
    }
   ],
   "source": [
    "c.volume"
   ]
  },
  {
   "cell_type": "code",
   "execution_count": 63,
   "metadata": {},
   "outputs": [
    {
     "name": "stdout",
     "output_type": "stream",
     "text": [
      "can't set attribute\n"
     ]
    }
   ],
   "source": [
    "try:\n",
    "    c.volume = 0\n",
    "except AttributeError as err:\n",
    "    print(err)"
   ]
  },
  {
   "cell_type": "code",
   "execution_count": 64,
   "metadata": {},
   "outputs": [
    {
     "data": {
      "image/png": "[encoded data removed]",
      "text/plain": [
       "<IPython.core.display.Image object>"
      ]
     },
     "execution_count": 64,
     "metadata": {},
     "output_type": "execute_result"
    }
   ],
   "source": [
    "c._mass_graph.visualize()"
   ]
  },
  {
   "cell_type": "code",
   "execution_count": 65,
   "metadata": {},
   "outputs": [],
   "source": [
    "#TODO: Is there a way to do caching and minimal evaluation in Dask?"
   ]
  },
  {
   "cell_type": "code",
   "execution_count": null,
   "metadata": {},
   "outputs": [],
   "source": []
  },
  {
   "cell_type": "code",
   "execution_count": null,
   "metadata": {},
   "outputs": [],
   "source": []
  },
  {
   "cell_type": "code",
   "execution_count": null,
   "metadata": {},
   "outputs": [],
   "source": []
  },
  {
   "cell_type": "code",
   "execution_count": null,
   "metadata": {},
   "outputs": [],
   "source": []
  }
 ],
 "metadata": {
  "kernelspec": {
   "display_name": "Python [conda env:torch]",
   "language": "python",
   "name": "conda-env-torch-py"
  },
  "language_info": {
   "codemirror_mode": {
    "name": "ipython",
    "version": 3
   },
   "file_extension": ".py",
   "mimetype": "text/x-python",
   "name": "python",
   "nbconvert_exporter": "python",
   "pygments_lexer": "ipython3",
   "version": "3.7.7"
  }
 },
 "nbformat": 4,
 "nbformat_minor": 2
}
