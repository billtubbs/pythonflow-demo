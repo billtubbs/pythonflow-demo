{
 "cells": [
  {
   "cell_type": "markdown",
   "metadata": {},
   "source": [
    "# Ways To Build And Manage A Computation Graph in Python"
   ]
  },
  {
   "cell_type": "markdown",
   "metadata": {},
   "source": [
    "## 1. Computation Graph using built-in Python Properties"
   ]
  },
  {
   "cell_type": "code",
   "execution_count": 1,
   "metadata": {},
   "outputs": [],
   "source": [
    "from math import pi\n",
    "from itertools import chain\n",
    "\n",
    "class Cylinder:\n",
    "\n",
    "    _dependencies = {\n",
    "        \"length\": [\"volume\"],\n",
    "        \"radius\": [\"volume\"],\n",
    "        \"volume\": [\"mass\"],\n",
    "        \"density\": [\"mass\"]\n",
    "    }\n",
    "    _dependent_vars = set(chain(*list(_dependencies.values())))\n",
    "\n",
    "    def __init__(self, radius, length, density):\n",
    "        self._radius = radius\n",
    "        self._length = length\n",
    "        self._density = density\n",
    "        self._volume = None\n",
    "        self._mass = None\n",
    "\n",
    "    def _reset_dependent_vars(self, name):\n",
    "        for var in self._dependencies[name]:\n",
    "            super().__setattr__(f\"_{var}\", None)\n",
    "            if var in self._dependencies:\n",
    "                self._reset_dependent_vars(var)\n",
    "\n",
    "    def __setattr__(self, name, value):\n",
    "        if name in self._dependent_vars:\n",
    "            raise AttributeError(\"Cannot set this value.\")\n",
    "        if name in self._dependencies:\n",
    "            self._reset_dependent_vars(name)\n",
    "            name = f\"_{name}\"\n",
    "        super().__setattr__(name, value)\n",
    "\n",
    "    @property\n",
    "    def volume(self):\n",
    "        \"\"\"Calculates cylinder's volume.\"\"\"\n",
    "        if self._volume is None:\n",
    "            self._volume = self.length*pi*self.radius**2\n",
    "            print(\"Volume calculated\")\n",
    "        return self._volume\n",
    "\n",
    "    @property\n",
    "    def mass(self):\n",
    "        \"\"\"Calculates cylinder's mass.\"\"\"\n",
    "        if self._mass is None:\n",
    "            self._mass = self.volume*self.density\n",
    "            print(\"Mass calculated\")\n",
    "        return self._mass\n",
    "\n",
    "    @property\n",
    "    def length(self):\n",
    "        return self._length\n",
    "\n",
    "    @property\n",
    "    def radius(self):\n",
    "        return self._radius\n",
    "\n",
    "    @property\n",
    "    def density(self):\n",
    "        return self._density"
   ]
  },
  {
   "cell_type": "code",
   "execution_count": 2,
   "metadata": {},
   "outputs": [],
   "source": [
    "c = Cylinder(0.25, 1.0, 450)"
   ]
  },
  {
   "cell_type": "code",
   "execution_count": 3,
   "metadata": {},
   "outputs": [
    {
     "data": {
      "text/plain": [
       "0.25"
      ]
     },
     "execution_count": 3,
     "metadata": {},
     "output_type": "execute_result"
    }
   ],
   "source": [
    "c.radius"
   ]
  },
  {
   "cell_type": "code",
   "execution_count": 4,
   "metadata": {},
   "outputs": [
    {
     "data": {
      "text/plain": [
       "1.0"
      ]
     },
     "execution_count": 4,
     "metadata": {},
     "output_type": "execute_result"
    }
   ],
   "source": [
    "c.length"
   ]
  },
  {
   "cell_type": "code",
   "execution_count": 5,
   "metadata": {},
   "outputs": [
    {
     "data": {
      "text/plain": [
       "450"
      ]
     },
     "execution_count": 5,
     "metadata": {},
     "output_type": "execute_result"
    }
   ],
   "source": [
    "c.density"
   ]
  },
  {
   "cell_type": "code",
   "execution_count": 6,
   "metadata": {},
   "outputs": [
    {
     "name": "stdout",
     "output_type": "stream",
     "text": [
      "Volume calculated\n"
     ]
    },
    {
     "data": {
      "text/plain": [
       "0.19634954084936207"
      ]
     },
     "execution_count": 6,
     "metadata": {},
     "output_type": "execute_result"
    }
   ],
   "source": [
    "c.volume"
   ]
  },
  {
   "cell_type": "code",
   "execution_count": 7,
   "metadata": {},
   "outputs": [
    {
     "name": "stdout",
     "output_type": "stream",
     "text": [
      "Mass calculated\n"
     ]
    },
    {
     "data": {
      "text/plain": [
       "88.35729338221293"
      ]
     },
     "execution_count": 7,
     "metadata": {},
     "output_type": "execute_result"
    }
   ],
   "source": [
    "c.mass"
   ]
  },
  {
   "cell_type": "code",
   "execution_count": 8,
   "metadata": {},
   "outputs": [],
   "source": [
    "c.length = c.length*2  # This should change things!"
   ]
  },
  {
   "cell_type": "code",
   "execution_count": 9,
   "metadata": {},
   "outputs": [
    {
     "name": "stdout",
     "output_type": "stream",
     "text": [
      "Volume calculated\n",
      "Mass calculated\n"
     ]
    },
    {
     "data": {
      "text/plain": [
       "176.71458676442586"
      ]
     },
     "execution_count": 9,
     "metadata": {},
     "output_type": "execute_result"
    }
   ],
   "source": [
    "c.mass"
   ]
  },
  {
   "cell_type": "code",
   "execution_count": 10,
   "metadata": {},
   "outputs": [
    {
     "data": {
      "text/plain": [
       "0.39269908169872414"
      ]
     },
     "execution_count": 10,
     "metadata": {},
     "output_type": "execute_result"
    }
   ],
   "source": [
    "c.volume"
   ]
  },
  {
   "cell_type": "code",
   "execution_count": 11,
   "metadata": {},
   "outputs": [
    {
     "name": "stdout",
     "output_type": "stream",
     "text": [
      "Cannot set this value.\n"
     ]
    }
   ],
   "source": [
    "try:\n",
    "    c.volume = 0\n",
    "except AttributeError as err:\n",
    "    print(err)"
   ]
  },
  {
   "cell_type": "markdown",
   "metadata": {},
   "source": [
    "## 2. Trying out pythonflow package to build computation graph"
   ]
  },
  {
   "cell_type": "code",
   "execution_count": 12,
   "metadata": {},
   "outputs": [],
   "source": [
    "import pythonflow as pf\n",
    "import math\n",
    "\n",
    "with pf.Graph() as graph:\n",
    "    pi = pf.constant(math.pi)\n",
    "    length = pf.constant(1.0)\n",
    "    radius = pf.constant(0.25)\n",
    "    density = pf.constant(450)\n",
    "    volume = length*pi*radius**2\n",
    "    mass = volume*density"
   ]
  },
  {
   "cell_type": "code",
   "execution_count": 13,
   "metadata": {},
   "outputs": [
    {
     "data": {
      "text/plain": [
       "0.19634954084936207"
      ]
     },
     "execution_count": 13,
     "metadata": {},
     "output_type": "execute_result"
    }
   ],
   "source": [
    "graph(volume)"
   ]
  },
  {
   "cell_type": "code",
   "execution_count": 14,
   "metadata": {},
   "outputs": [
    {
     "data": {
      "text/plain": [
       "88.35729338221293"
      ]
     },
     "execution_count": 14,
     "metadata": {},
     "output_type": "execute_result"
    }
   ],
   "source": [
    "graph(mass)"
   ]
  },
  {
   "cell_type": "code",
   "execution_count": 15,
   "metadata": {},
   "outputs": [
    {
     "data": {
      "text/plain": [
       "0.39269908169872414"
      ]
     },
     "execution_count": 15,
     "metadata": {},
     "output_type": "execute_result"
    }
   ],
   "source": [
    "graph(volume, {length: graph(length)*2})"
   ]
  },
  {
   "cell_type": "code",
   "execution_count": 16,
   "metadata": {},
   "outputs": [
    {
     "data": {
      "text/plain": [
       "176.71458676442586"
      ]
     },
     "execution_count": 16,
     "metadata": {},
     "output_type": "execute_result"
    }
   ],
   "source": [
    "graph(mass, {length: graph(length)*2})"
   ]
  },
  {
   "cell_type": "code",
   "execution_count": 17,
   "metadata": {},
   "outputs": [
    {
     "data": {
      "text/plain": [
       "176.71458676442586"
      ]
     },
     "execution_count": 17,
     "metadata": {},
     "output_type": "execute_result"
    }
   ],
   "source": [
    "graph(mass, {length: graph(length)*2})"
   ]
  },
  {
   "cell_type": "code",
   "execution_count": 18,
   "metadata": {},
   "outputs": [],
   "source": [
    "# Problem is, I think it is still recalculating all dependencies each time...\n"
   ]
  },
  {
   "cell_type": "markdown",
   "metadata": {},
   "source": [
    "## 3. Using Pythonflow with Class Properties"
   ]
  },
  {
   "cell_type": "code",
   "execution_count": 19,
   "metadata": {},
   "outputs": [],
   "source": [
    "from math import pi\n",
    "\n",
    "class Cylinder:\n",
    "\n",
    "    _independent = {\"length\", \"radius\", \"density\"}\n",
    "    _dependent = {\"volume\", \"mass\"}\n",
    "\n",
    "    def __init__(self, radius, length, density):\n",
    "        self._length = length\n",
    "        self._radius = radius\n",
    "        self._density = density\n",
    "        self._volume = None\n",
    "        self._mass = None\n",
    "        with pf.Graph() as graph:\n",
    "            self._pf_radius = pf.placeholder(name='_radius')\n",
    "            self._pf_length = pf.placeholder(name='_length')\n",
    "            self._pf_density = pf.placeholder(name='_density')\n",
    "            # Put all calculations here\n",
    "            self._pf_volume = self._pf_length*pi*self._pf_radius**2\n",
    "            self._pf_mass = self._pf_volume*self._pf_density\n",
    "            self.graph = graph\n",
    "\n",
    "    def __setattr__(self, name, value):\n",
    "        if name in self._dependent:\n",
    "            raise AttributeError(\"Cannot set this value.\")\n",
    "        if name in self._independent:\n",
    "            name = f\"_{name}\"\n",
    "        super().__setattr__(name, value)\n",
    "\n",
    "    def _pf_values(self):\n",
    "        return {\n",
    "            self._pf_radius: self._radius,\n",
    "            self._pf_length: self._length,\n",
    "            self._pf_density: self._density\n",
    "        }\n",
    "    \n",
    "    @property\n",
    "    def volume(self):\n",
    "        \"\"\"Calculates cylinder's volume.\"\"\"\n",
    "        print(\"Volume calculated\")\n",
    "        return self.graph(self._pf_volume, self._pf_values())\n",
    "\n",
    "    @property\n",
    "    def mass(self):\n",
    "        \"\"\"Calculates cylinder's mass.\"\"\"\n",
    "        print(\"Mass calculated\")\n",
    "        return self.graph(self._pf_mass, self._pf_values())\n",
    "\n",
    "    @property\n",
    "    def length(self):\n",
    "        return self._length\n",
    "\n",
    "    @property\n",
    "    def radius(self):\n",
    "        return self._radius\n",
    "\n",
    "    @property\n",
    "    def density(self):\n",
    "        return self._density"
   ]
  },
  {
   "cell_type": "code",
   "execution_count": 20,
   "metadata": {},
   "outputs": [],
   "source": [
    "c = Cylinder(0.25, 1.0, 450)"
   ]
  },
  {
   "cell_type": "code",
   "execution_count": 21,
   "metadata": {},
   "outputs": [
    {
     "data": {
      "text/plain": [
       "0.25"
      ]
     },
     "execution_count": 21,
     "metadata": {},
     "output_type": "execute_result"
    }
   ],
   "source": [
    "c.radius"
   ]
  },
  {
   "cell_type": "code",
   "execution_count": 22,
   "metadata": {},
   "outputs": [
    {
     "data": {
      "text/plain": [
       "1.0"
      ]
     },
     "execution_count": 22,
     "metadata": {},
     "output_type": "execute_result"
    }
   ],
   "source": [
    "c.length"
   ]
  },
  {
   "cell_type": "code",
   "execution_count": 23,
   "metadata": {},
   "outputs": [
    {
     "data": {
      "text/plain": [
       "450"
      ]
     },
     "execution_count": 23,
     "metadata": {},
     "output_type": "execute_result"
    }
   ],
   "source": [
    "c.density"
   ]
  },
  {
   "cell_type": "code",
   "execution_count": 24,
   "metadata": {},
   "outputs": [
    {
     "name": "stdout",
     "output_type": "stream",
     "text": [
      "Volume calculated\n"
     ]
    },
    {
     "data": {
      "text/plain": [
       "0.19634954084936207"
      ]
     },
     "execution_count": 24,
     "metadata": {},
     "output_type": "execute_result"
    }
   ],
   "source": [
    "c.volume"
   ]
  },
  {
   "cell_type": "code",
   "execution_count": 25,
   "metadata": {},
   "outputs": [
    {
     "name": "stdout",
     "output_type": "stream",
     "text": [
      "Mass calculated\n"
     ]
    },
    {
     "data": {
      "text/plain": [
       "88.35729338221293"
      ]
     },
     "execution_count": 25,
     "metadata": {},
     "output_type": "execute_result"
    }
   ],
   "source": [
    "c.mass"
   ]
  },
  {
   "cell_type": "code",
   "execution_count": 26,
   "metadata": {},
   "outputs": [
    {
     "data": {
      "text/plain": [
       "2.0"
      ]
     },
     "execution_count": 26,
     "metadata": {},
     "output_type": "execute_result"
    }
   ],
   "source": [
    "c.length = c.length*2  # This should change things!\n",
    "c.length"
   ]
  },
  {
   "cell_type": "code",
   "execution_count": 27,
   "metadata": {},
   "outputs": [
    {
     "name": "stdout",
     "output_type": "stream",
     "text": [
      "Mass calculated\n"
     ]
    },
    {
     "data": {
      "text/plain": [
       "176.71458676442586"
      ]
     },
     "execution_count": 27,
     "metadata": {},
     "output_type": "execute_result"
    }
   ],
   "source": [
    "c.mass"
   ]
  },
  {
   "cell_type": "code",
   "execution_count": 28,
   "metadata": {},
   "outputs": [
    {
     "name": "stdout",
     "output_type": "stream",
     "text": [
      "Volume calculated\n"
     ]
    },
    {
     "data": {
      "text/plain": [
       "0.39269908169872414"
      ]
     },
     "execution_count": 28,
     "metadata": {},
     "output_type": "execute_result"
    }
   ],
   "source": [
    "c.volume"
   ]
  },
  {
   "cell_type": "code",
   "execution_count": 29,
   "metadata": {},
   "outputs": [
    {
     "name": "stdout",
     "output_type": "stream",
     "text": [
      "Cannot set this value.\n"
     ]
    }
   ],
   "source": [
    "try:\n",
    "    c.volume = 0\n",
    "except AttributeError as err:\n",
    "    print(err)"
   ]
  },
  {
   "cell_type": "code",
   "execution_count": 30,
   "metadata": {},
   "outputs": [],
   "source": [
    "#TODO: Can it cache values?  I don't think so."
   ]
  },
  {
   "cell_type": "code",
   "execution_count": null,
   "metadata": {},
   "outputs": [],
   "source": []
  },
  {
   "cell_type": "code",
   "execution_count": null,
   "metadata": {},
   "outputs": [],
   "source": []
  }
 ],
 "metadata": {
  "kernelspec": {
   "display_name": "Python [conda env:torch]",
   "language": "python",
   "name": "conda-env-torch-py"
  },
  "language_info": {
   "codemirror_mode": {
    "name": "ipython",
    "version": 3
   },
   "file_extension": ".py",
   "mimetype": "text/x-python",
   "name": "python",
   "nbconvert_exporter": "python",
   "pygments_lexer": "ipython3",
   "version": "3.7.4"
  }
 },
 "nbformat": 4,
 "nbformat_minor": 2
}
